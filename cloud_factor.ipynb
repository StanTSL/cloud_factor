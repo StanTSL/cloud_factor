{
 "cells": [
  {
   "cell_type": "code",
   "execution_count": 1,
   "id": "5521a9b7-bf65-4a45-b396-847e926e9698",
   "metadata": {},
   "outputs": [],
   "source": [
    "import pandas as pd"
   ]
  },
  {
   "cell_type": "code",
   "execution_count": 9,
   "id": "8c8bf0ae-a542-4b34-84de-13f8f3497e2b",
   "metadata": {},
   "outputs": [],
   "source": [
    "# создаем дф по месяцам файлы скачиваем с https://neo.gsfc.nasa.gov/view.php?datasetId=MODAL2_M_CLD_FR\n",
    "\n",
    "df1 = pd.read_csv('1.CSV', encoding='cp1251').rename(columns={'lat/lon' : '0'})    # январь и т.д.\n",
    "df2 = pd.read_csv('2.CSV', encoding='cp1251').rename(columns={'lat/lon' : '0'})\n",
    "df3 = pd.read_csv('3.CSV', encoding='cp1251').rename(columns={'lat/lon' : '0'})\n",
    "df4 = pd.read_csv('4.CSV', encoding='cp1251').rename(columns={'lat/lon' : '0'})\n",
    "df5 = pd.read_csv('5.CSV', encoding='cp1251').rename(columns={'lat/lon' : '0'})\n",
    "df6 = pd.read_csv('6.CSV', encoding='cp1251').rename(columns={'lat/lon' : '0'})\n",
    "df7 = pd.read_csv('7.CSV', encoding='cp1251').rename(columns={'lat/lon' : '0'})\n",
    "df8 = pd.read_csv('8.CSV', encoding='cp1251').rename(columns={'lat/lon' : '0'})\n",
    "df9 = pd.read_csv('9.CSV', encoding='cp1251').rename(columns={'lat/lon' : '0'})\n",
    "df10 = pd.read_csv('10.CSV', encoding='cp1251').rename(columns={'lat/lon' : '0'})\n",
    "df11 = pd.read_csv('11.CSV', encoding='cp1251').rename(columns={'lat/lon' : '0'})\n",
    "df12 = pd.read_csv('12.CSV', encoding='cp1251').rename(columns={'lat/lon' : '0'})"
   ]
  },
  {
   "cell_type": "code",
   "execution_count": 11,
   "id": "669cd97e-f848-4f24-9033-0a654ad77493",
   "metadata": {},
   "outputs": [],
   "source": [
    "# вводим координаты района где мы хотим узнать коэф-т облачности\n",
    "latitude = -25.2      # широта\n",
    "longitude = 27.7   # долгота"
   ]
  },
  {
   "cell_type": "code",
   "execution_count": 15,
   "id": "0156bf7c-e402-47e0-98aa-b40ec3acf8ee",
   "metadata": {},
   "outputs": [],
   "source": [
    "# находим в дф соответствующие координатам значения коэф-та облочности\n",
    "column =  str(min([float(i) for i in df1.columns.tolist()], key=lambda x: abs(x - longitude)))\n",
    "idx = df1[df1['0'] == min(df1['0'], key=lambda x: abs(x - latitude))].index"
   ]
  },
  {
   "cell_type": "code",
   "execution_count": 17,
   "id": "706dc505-c964-4054-9b96-8b1826c93870",
   "metadata": {},
   "outputs": [],
   "source": [
    "# значение коэф-та облачности по месяцам\n",
    "q1 = df1.loc[idx, column]\n",
    "q2 = df2.loc[idx, column]\n",
    "q3 = df3.loc[idx, column]\n",
    "q4 = df4.loc[idx, column]\n",
    "q5 = df5.loc[idx, column]\n",
    "q6 = df6.loc[idx, column]\n",
    "q7 = df7.loc[idx, column]\n",
    "q8 = df8.loc[idx, column]\n",
    "q9 = df9.loc[idx, column]\n",
    "q10 = df10.loc[idx, column]\n",
    "q11 = df11.loc[idx, column]\n",
    "q12 = df12.loc[idx, column]"
   ]
  },
  {
   "cell_type": "code",
   "execution_count": 19,
   "id": "1e920c39-1b6c-48c9-881e-8d7d173ff39c",
   "metadata": {},
   "outputs": [
    {
     "data": {
      "text/html": [
       "<div>\n",
       "<style scoped>\n",
       "    .dataframe tbody tr th:only-of-type {\n",
       "        vertical-align: middle;\n",
       "    }\n",
       "\n",
       "    .dataframe tbody tr th {\n",
       "        vertical-align: top;\n",
       "    }\n",
       "\n",
       "    .dataframe thead th {\n",
       "        text-align: right;\n",
       "    }\n",
       "</style>\n",
       "<table border=\"1\" class=\"dataframe\">\n",
       "  <thead>\n",
       "    <tr style=\"text-align: right;\">\n",
       "      <th></th>\n",
       "      <th>Январь</th>\n",
       "      <th>Февраль</th>\n",
       "      <th>Март</th>\n",
       "      <th>Апрель</th>\n",
       "      <th>Май</th>\n",
       "      <th>Июнь</th>\n",
       "      <th>Июль</th>\n",
       "      <th>Август</th>\n",
       "      <th>Сентябрь</th>\n",
       "      <th>Октябрь</th>\n",
       "      <th>Ноябрь</th>\n",
       "      <th>Декабрь</th>\n",
       "    </tr>\n",
       "  </thead>\n",
       "  <tbody>\n",
       "    <tr>\n",
       "      <th>80</th>\n",
       "      <td>0.413</td>\n",
       "      <td>0.642</td>\n",
       "      <td>0.409</td>\n",
       "      <td>0.193</td>\n",
       "      <td>0.421</td>\n",
       "      <td>0.252</td>\n",
       "      <td>0.315</td>\n",
       "      <td>0.177</td>\n",
       "      <td>0.161</td>\n",
       "      <td>0.366</td>\n",
       "      <td>0.252</td>\n",
       "      <td>0.472</td>\n",
       "    </tr>\n",
       "  </tbody>\n",
       "</table>\n",
       "</div>"
      ],
      "text/plain": [
       "    Январь  Февраль   Март  Апрель    Май   Июнь   Июль  Август  Сентябрь  \\\n",
       "80   0.413    0.642  0.409   0.193  0.421  0.252  0.315   0.177     0.161   \n",
       "\n",
       "    Октябрь  Ноябрь  Декабрь  \n",
       "80    0.366   0.252    0.472  "
      ]
     },
     "execution_count": 19,
     "metadata": {},
     "output_type": "execute_result"
    }
   ],
   "source": [
    "# Создание DataFrame\n",
    "df = pd.DataFrame(columns=['Январь', 'Февраль', 'Март', 'Апрель', 'Май', 'Июнь', 'Июль', 'Август', 'Сентябрь', 'Октябрь', 'Ноябрь', 'Декабрь'])\n",
    "df['Январь'] = q1\n",
    "df['Февраль'] = q2\n",
    "df['Март'] = q3\n",
    "df['Апрель'] = q4\n",
    "df['Май'] = q5\n",
    "df['Июнь'] = q6\n",
    "df['Июль'] = q7\n",
    "df['Август'] = q8\n",
    "df['Сентябрь'] = q9\n",
    "df['Октябрь'] = q10\n",
    "df['Ноябрь'] = q6\n",
    "df['Декабрь'] = q12\n",
    "df"
   ]
  },
  {
   "cell_type": "code",
   "execution_count": 25,
   "id": "01c7f35b-26d1-446a-9fec-fdd0309fe5c0",
   "metadata": {},
   "outputs": [
    {
     "data": {
      "image/png": "[encoded data removed]",
      "text/plain": [
       "<Figure size 1000x350 with 1 Axes>"
      ]
     },
     "metadata": {},
     "output_type": "display_data"
    }
   ],
   "source": [
    "# строим график\n",
    "import matplotlib.pyplot as plt\n",
    "\n",
    "df_plot = df.iloc[0]\n",
    "plt.figure(figsize=(20,7), dpi= 50)\n",
    "df_plot.plot.bar(color='cornflowerblue', width=0.6, rot=0, fontsize = 10)\n",
    "\n",
    "# Подписи\n",
    "plt.title(\"Облочность по месяцам\", fontsize=20)\n",
    "plt.ylabel('Коэф-т облачности', fontsize=15)\n",
    "plt.xlabel('Месяцы', fontsize=15)\n",
    "plt.ylim(0, 1)\n",
    "plt.show()"
   ]
  },
  {
   "cell_type": "code",
   "execution_count": null,
   "id": "4a59a65e-387f-4784-98aa-4858ed1a2b2d",
   "metadata": {},
   "outputs": [],
   "source": []
  }
 ],
 "metadata": {
  "kernelspec": {
   "display_name": "Python 3 (ipykernel)",
   "language": "python",
   "name": "python3"
  },
  "language_info": {
   "codemirror_mode": {
    "name": "ipython",
    "version": 3
   },
   "file_extension": ".py",
   "mimetype": "text/x-python",
   "name": "python",
   "nbconvert_exporter": "python",
   "pygments_lexer": "ipython3",
   "version": "3.12.7"
  }
 },
 "nbformat": 4,
 "nbformat_minor": 5
}
